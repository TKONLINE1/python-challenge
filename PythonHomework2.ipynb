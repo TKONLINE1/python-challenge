{
 "cells": [
  {
   "cell_type": "code",
   "execution_count": 10,
   "id": "9e6c9968-e1ae-4dc7-bff5-7e56c0d71b18",
   "metadata": {},
   "outputs": [
    {
     "name": "stdout",
     "output_type": "stream",
     "text": [
      "<class 'pandas.core.frame.DataFrame'>\n",
      "RangeIndex: 86 entries, 0 to 85\n",
      "Data columns (total 2 columns):\n",
      " #   Column         Non-Null Count  Dtype \n",
      "---  ------         --------------  ----- \n",
      " 0   Date           86 non-null     object\n",
      " 1   Profit/Losses  86 non-null     int64 \n",
      "dtypes: int64(1), object(1)\n",
      "memory usage: 1.5+ KB\n",
      "Total number of months: 86\n",
      "Total net amount of \"Profit/Losses\" over the entire period: $ 38382578\n",
      "Average of the changes in Profit/Losses over the entire period: $-2315.12\n",
      "Greatest increase in profits (date and amount) over the entire period: 02-2012 $ 1926159.0\n",
      "Greatest decrease in losses (date and amount) over the entire period: 09-2013 $ -2196167.0\n"
     ]
    }
   ],
   "source": [
    "# python-challenge\n",
    "import pandas as pd\n",
    "import numpy as np\n",
    "import matplotlib.pyplot as plt \n",
    "import seaborn as sns\n",
    "df= pd.read_csv('budget_data.csv')\n",
    "df.head()\n",
    "df.info()\n",
    "#The total number of months included in the dataset #date format is Jan-2010\n",
    "df['Date'] = pd.to_datetime(df['Date'])\n",
    "df['Date'] = df['Date'].dt.strftime('%m-%Y') #print the total number of months\n",
    "print('Total number of months:', df['Date'].nunique())\n",
    "df.head()\n",
    " #The total net amount of \"Profit/Losses\" over the entire period\n",
    "total_net = df['Profit/Losses'].sum()\n",
    "print('Total net amount of \"Profit/Losses\" over the entire period: $', total_net)\n",
    "#The average of the changes in Profit/Losses over the entire period\n",
    "df['Change'] = df['Profit/Losses'].diff()\n",
    "avg_change = df['Change'].mean()\n",
    "avg_change = round (avg_change,2) \n",
    "print(f'Average of the changes in Profit/Losses over the entire period: ${avg_change}') \n",
    "#The greatest increase in profits (date and amount) over the entire period\n",
    "max_change = df['Change'].max()\n",
    "max_change_date = df['Date'][df['Change'] == max_change].values[0]\n",
    "print('Greatest increase in profits (date and amount) over the entire period:', max_change_date, '$', max_change)\n",
    "#The greatest decrease in losses (date and amount) over the entire period\n",
    "min_change = df['Change'].min()\n",
    "min_change_date = df['Date'][df['Change'] == min_change].values[0]\n",
    "print('Greatest decrease in losses (date and amount) over the entire period:', min_change_date, '$', min_change)\n"
   ]
  },
  {
   "cell_type": "code",
   "execution_count": 11,
   "id": "093d1943-6808-4102-99ba-4b5192d7d56a",
   "metadata": {},
   "outputs": [
    {
     "data": {
      "text/plain": [
       "'/Users/titok/Desktop'"
      ]
     },
     "execution_count": 11,
     "metadata": {},
     "output_type": "execute_result"
    }
   ],
   "source": [
    "pwd"
   ]
  },
  {
   "cell_type": "code",
   "execution_count": null,
   "id": "7b3b6a76-27da-4e6a-acfa-3f20883e38ff",
   "metadata": {},
   "outputs": [],
   "source": []
  },
  {
   "cell_type": "code",
   "execution_count": null,
   "id": "2a53ce42-4e74-474b-bb85-c2f7597e5c0a",
   "metadata": {},
   "outputs": [],
   "source": []
  }
 ],
 "metadata": {
  "kernelspec": {
   "display_name": "Python 3 (ipykernel)",
   "language": "python",
   "name": "python3"
  },
  "language_info": {
   "codemirror_mode": {
    "name": "ipython",
    "version": 3
   },
   "file_extension": ".py",
   "mimetype": "text/x-python",
   "name": "python",
   "nbconvert_exporter": "python",
   "pygments_lexer": "ipython3",
   "version": "3.9.12"
  }
 },
 "nbformat": 4,
 "nbformat_minor": 5
}
